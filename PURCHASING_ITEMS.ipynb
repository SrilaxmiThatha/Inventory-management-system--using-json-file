{
  "nbformat": 4,
  "nbformat_minor": 0,
  "metadata": {
    "colab": {
      "name": "PURCHASING ITEMS.ipynb",
      "provenance": [],
      "collapsed_sections": [],
      "include_colab_link": true
    },
    "kernelspec": {
      "name": "python3",
      "display_name": "Python 3"
    },
    "language_info": {
      "name": "python"
    }
  },
  "cells": [
    {
      "cell_type": "markdown",
      "metadata": {
        "id": "view-in-github",
        "colab_type": "text"
      },
      "source": [
        "<a href=\"https://colab.research.google.com/github/SrilaxmiThatha/Inventory-management-system--using-json-file/blob/main/PURCHASING_ITEMS.ipynb\" target=\"_parent\"><img src=\"https://colab.research.google.com/assets/colab-badge.svg\" alt=\"Open In Colab\"/></a>"
      ]
    },
    {
      "cell_type": "markdown",
      "metadata": {
        "id": "sPb0sRBh4nvZ"
      },
      "source": [
        "# **INVENTORY MANAGEMENT SYSTEM**"
      ]
    },
    {
      "cell_type": "markdown",
      "metadata": {
        "id": "53Yx6vQVY2P8"
      },
      "source": [
        "**READING DATA FROM JSON**:\n",
        "\n",
        "\n",
        "*   IN THIS WE WILL OPEN THE JSON FILE AND READS THE DATA AND MAKE INTO A DIRECTORY"
      ]
    },
    {
      "cell_type": "code",
      "metadata": {
        "id": "CA2C7wfjY7lR"
      },
      "source": [
        "import json"
      ],
      "execution_count": null,
      "outputs": []
    },
    {
      "cell_type": "markdown",
      "metadata": {
        "id": "N3mTDqTwsZEL"
      },
      "source": [
        "\n",
        "READING RECORD.JSON FILE AND STORING IT IN LOCAL VARIABLE\n",
        "\n"
      ]
    },
    {
      "cell_type": "code",
      "metadata": {
        "id": "Tbaxik1rAN-P"
      },
      "source": [
        "fd = open(\"record.json\",'r')#opening json file\n",
        "r = fd.read()\n",
        "fd.close()\n",
        "record = json.loads(r)  #getting dictionary named as record"
      ],
      "execution_count": null,
      "outputs": []
    },
    {
      "cell_type": "markdown",
      "metadata": {
        "id": "1KJ2okYDtWAZ"
      },
      "source": [
        "PRINTING ITEMS AVAILABLE IN INVENTORY"
      ]
    },
    {
      "cell_type": "code",
      "metadata": {
        "colab": {
          "base_uri": "https://localhost:8080/"
        },
        "id": "GjLO68HDtAFU",
        "outputId": "56cd4adb-7e72-403c-b647-e8141d3bf89f"
      },
      "source": [
        "print(\"Welcome\") \n",
        "print(\"We have these items available:\"+\"\\n\") \n",
        "for i in record:\n",
        "   print(\"Product_id:\"+i+\"-\",record[i])"
      ],
      "execution_count": null,
      "outputs": [
        {
          "output_type": "stream",
          "name": "stdout",
          "text": [
            "Welcome\n",
            "We have these items available:\n",
            "\n",
            "Product_id:2001- {'item': 'dairymilk(s)', 'price': 10, 'quantity': 10, 'category': 'chocolate', 'rating': 7}\n",
            "Product_id:2002- {'item': 'dairymilk(m)', 'price': 40, 'quantity': 50, 'category': 'chocolate', 'rating': 8}\n",
            "Product_id:2003- {'item': 'dairymilk(l)', 'price': 100, 'quantity': 25, 'category': 'chocolate', 'rating': 8}\n",
            "Product_id:2004- {'item': 'perk(s)', 'price': 10, 'quantity': 100, 'category': 'chocolate', 'rating': 6}\n",
            "Product_id:2005- {'item': 'perk(m)', 'price': 40, 'quantity': 55, 'category': 'chocolate', 'rating': 7}\n",
            "Product_id:2006- {'item': 'perk(l)', 'price': 80, 'quantity': 50, 'category': 'chocolate', 'rating': 8}\n",
            "Product_id:2007- {'item': 'dove', 'price': 2, 'quantity': 500, 'category': 'shampoo', 'rating': 6}\n",
            "Product_id:2008- {'item': 'pantenebottle', 'price': 150, 'quantity': 50, 'category': 'shampoo', 'rating': 6}\n",
            "Product_id:2009- {'item': 'sandalsoap', 'price': 20, 'quantity': 50, 'category': 'soap', 'rating': 9}\n",
            "Product_id:2010- {'item': 'dettolhandwash', 'price': 80, 'quantity': 30, 'category': 'handwash', 'rating': 9}\n",
            "Product_id:2011- {'item': 'dettolbottle', 'price': 80, 'quantity': 100, 'category': 'medicine', 'rating': 9}\n",
            "Product_id:2012- {'item': 'paracetamol', 'price': 40, 'quantity': 10, 'category': 'medicine', 'rating': 8}\n",
            "Product_id:2013- {'item': 'potato', 'price': 10, 'quantity': 100, 'category': 'vegetable', 'rating': 8}\n",
            "Product_id:2014- {'item': '5star(s)', 'price': 10, 'quantity': 100, 'category': 'chocolate', 'rating': 8}\n",
            "Product_id:2015- {'item': '5star(m)', 'price': 20, 'quantity': 100, 'category': 'chocolate', 'rating': 8}\n",
            "Product_id:2016- {'item': '5star(l)', 'price': 40, 'quantity': 50, 'category': 'chocolate', 'rating': 8}\n",
            "Product_id:2017- {'item': 'kitkat(s)', 'price': 10, 'quantity': 300, 'category': 'chocolate', 'rating': 7}\n",
            "Product_id:2018- {'item': 'kitkat(m)', 'price': 40, 'quantity': 400, 'category': 'chocolate', 'rating': 9}\n",
            "Product_id:2019- {'item': 'sneakers', 'price': 10, 'quantity': 500, 'category': 'chocolate', 'rating': 6}\n",
            "Product_id:2020- {'item': 'centerfresh', 'price': 1, 'quantity': 1000, 'category': 'toffee', 'rating': 7}\n",
            "Product_id:2021- {'item': 'notebook', 'price': 35, 'quantity': 40, 'category': 'stationary', 'rating': 8}\n",
            "Product_id:2022- {'item': 'apsarapencil', 'price': 5, 'quantity': 200, 'category': 'stationary', 'rating': 9}\n",
            "Product_id:2023- {'item': 'fair-copy', 'price': 70, 'quantity': 80, 'category': 'stationary', 'rating': 8}\n",
            "Product_id:2024- {'item': 'rough-copy', 'price': 30, 'quantity': 80, 'category': 'stationary', 'rating': 7}\n",
            "Product_id:2025- {'item': 'pencil-box', 'price': 100, 'quantity': 90, 'category': 'stationary', 'rating': 9}\n",
            "Product_id:2026- {'item': 'colors', 'price': 120, 'quantity': 40, 'category': 'stationary', 'rating': 8}\n",
            "Product_id:2027- {'item': 'fevicol(m)', 'price': 20, 'quantity': 100, 'category': 'stationary', 'rating': 9}\n",
            "Product_id:2028- {'item': 'fevicol(l)', 'price': 50, 'quantity': 300, 'category': 'stationary', 'rating': 9}\n",
            "Product_id:2029- {'item': 'chocobar', 'price': 10, 'quantity': 200, 'category': 'chocolate', 'rating': 7}\n",
            "Product_id:2030- {'item': 'pilotpen', 'price': 100, 'quantity': 100, 'category': 'stationary', 'rating': 9}\n"
          ]
        }
      ]
    },
    {
      "cell_type": "code",
      "metadata": {
        "colab": {
          "base_uri": "https://localhost:8080/"
        },
        "id": "4NY18WWbtq6P",
        "outputId": "0f7d7779-1319-48ba-879c-7a7a0f23c717"
      },
      "source": [
        "Prod_id=input(\"Enter Product Id: \") \n",
        "quan=int(input(\"Enter No. of Quantity u want to purchase: \"))\n",
        " \n",
        "if Prod_id not in  record:\n",
        "   print(\"Sorry, We don't have any item of this product id.\")\n",
        "   Prod_id=\"0\"\n",
        "   quan=0\n",
        "elif quan>record[Prod_id][\"quantity\"]:\n",
        "   print(\"Sorry we have only \"+str(record[Prod_id][\"quantity\"]) +\" units left\")\n",
        "   Prod_id=\"0\"\n",
        "   quan=0\n",
        "else:\n",
        "   print(\"***************************************\") \n",
        "   print(\"Product_Id: \"+Prod_id) \n",
        "   print(\"Product Name: \"+record[Prod_id][\"item\"]) \n",
        "   print(\"Price: \", record[Prod_id][\"price\"]) \n",
        "   print(\"Unit purchased: \", quan) \n",
        "   print(\"Total amount: \", quan*record[Prod_id][\"price\"]) \n",
        "   print(\"discount: \", .1*quan*record[Prod_id][\"price\"]) \n",
        "   print(\"Bill Amount\", ((quan*record[Prod_id][\"price\"]) -(.1*quan*record[Prod_id][\"price\"]))) \n",
        "   print(\"****************************************\")\n",
        "print(\"Thanks for Shopping\")\n",
        "print(\"Have a Nice day\")"
      ],
      "execution_count": null,
      "outputs": [
        {
          "output_type": "stream",
          "name": "stdout",
          "text": [
            "Enter Product Id: 2005\n",
            "Enter No. of Quantity u want to purchase: 3\n",
            "***************************************\n",
            "Product_Id: 2005\n",
            "Product Name: perk(m)\n",
            "Price:  40\n",
            "Unit purchased:  3\n",
            "Total amount:  120\n",
            "discount:  12.000000000000002\n",
            "Bill Amount 108.0\n",
            "****************************************\n",
            "Thanks for Shopping\n",
            "Have a Nice day\n"
          ]
        }
      ]
    },
    {
      "cell_type": "markdown",
      "metadata": {
        "id": "9vKEAuB1yBas"
      },
      "source": [
        "**UPDATING** **INVENTORY**"
      ]
    },
    {
      "cell_type": "code",
      "metadata": {
        "id": "h0a-qTc1xyLA"
      },
      "source": [
        "\n",
        "record[Prod_id][\"quantity\"]=((record[Prod_id][\"quantity\"]) -quan)\n",
        "js=json.dumps(record) \n",
        "fd=open(\"record.json\", 'w') \n",
        "fd.write(js) \n",
        "fd. close()"
      ],
      "execution_count": null,
      "outputs": []
    },
    {
      "cell_type": "markdown",
      "metadata": {
        "id": "OA1sWuja1KbJ"
      },
      "source": [
        "**CREATING** **SALES** **DATA**"
      ]
    },
    {
      "cell_type": "code",
      "metadata": {
        "id": "tsiHUZySzMdX"
      },
      "source": [
        "fd=open(\"sales.json\", 'r') \n",
        "txt=fd.read()  \n",
        "fd.close\n",
        "Sale= json.loads(r)"
      ],
      "execution_count": null,
      "outputs": []
    },
    {
      "cell_type": "code",
      "metadata": {
        "id": "I3z9_mbXz1Ff"
      },
      "source": [
        "import time\n",
        "Time=time.ctime() \n",
        " \n",
        "Sale[str(len(Sale)+1)]={'Product Name':record[Prod_id][\"item\"],\"Product id\":Prod_id, \"quantity\":quan, \"Amount\":((quan*record[Prod_id][\"price\"]) -(.1*quan*record[Prod_id][\"price\"])),\"Timing\":Time}\n",
        "js=json.dumps(Sale) \n",
        "fd=open(\"sales.json\", 'w') \n",
        "fd.write(js) \n",
        "fd.close()"
      ],
      "execution_count": null,
      "outputs": []
    },
    {
      "cell_type": "markdown",
      "metadata": {
        "id": "AYnmrOyb0uWJ"
      },
      "source": [
        "**DISPLAYING ** **SALES** **DATA**"
      ]
    },
    {
      "cell_type": "code",
      "metadata": {
        "colab": {
          "base_uri": "https://localhost:8080/"
        },
        "id": "cjeZaZrg0gA7",
        "outputId": "cc3553e2-8690-4dde-ac7f-2c1112ad2976"
      },
      "source": [
        "x=open(\"sales.json\", 'r') \n",
        "a=x.read() \n",
        "x.close() \n",
        "sales_data=json.loads(a) \n",
        "for i in sales_data:\n",
        "   print(\"Transaction Id:\"+i+\"-\", sales_data[i])"
      ],
      "execution_count": null,
      "outputs": [
        {
          "output_type": "stream",
          "name": "stdout",
          "text": [
            "Transaction Id:2001- {'item': 'dairymilk(s)', 'price': 10, 'quantity': 10, 'category': 'chocolate', 'rating': 7}\n",
            "Transaction Id:2002- {'item': 'dairymilk(m)', 'price': 40, 'quantity': 50, 'category': 'chocolate', 'rating': 8}\n",
            "Transaction Id:2003- {'item': 'dairymilk(l)', 'price': 100, 'quantity': 25, 'category': 'chocolate', 'rating': 8}\n",
            "Transaction Id:2004- {'item': 'perk(s)', 'price': 10, 'quantity': 100, 'category': 'chocolate', 'rating': 6}\n",
            "Transaction Id:2005- {'item': 'perk(m)', 'price': 40, 'quantity': 55, 'category': 'chocolate', 'rating': 7}\n",
            "Transaction Id:2006- {'item': 'perk(l)', 'price': 80, 'quantity': 50, 'category': 'chocolate', 'rating': 8}\n",
            "Transaction Id:2007- {'item': 'dove', 'price': 2, 'quantity': 500, 'category': 'shampoo', 'rating': 6}\n",
            "Transaction Id:2008- {'item': 'pantenebottle', 'price': 150, 'quantity': 50, 'category': 'shampoo', 'rating': 6}\n",
            "Transaction Id:2009- {'item': 'sandalsoap', 'price': 20, 'quantity': 50, 'category': 'soap', 'rating': 9}\n",
            "Transaction Id:2010- {'item': 'dettolhandwash', 'price': 80, 'quantity': 30, 'category': 'handwash', 'rating': 9}\n",
            "Transaction Id:2011- {'item': 'dettolbottle', 'price': 80, 'quantity': 100, 'category': 'medicine', 'rating': 9}\n",
            "Transaction Id:2012- {'item': 'paracetamol', 'price': 40, 'quantity': 10, 'category': 'medicine', 'rating': 8}\n",
            "Transaction Id:2013- {'item': 'potato', 'price': 10, 'quantity': 100, 'category': 'vegetable', 'rating': 8}\n",
            "Transaction Id:2014- {'item': '5star(s)', 'price': 10, 'quantity': 100, 'category': 'chocolate', 'rating': 8}\n",
            "Transaction Id:2015- {'item': '5star(m)', 'price': 20, 'quantity': 100, 'category': 'chocolate', 'rating': 8}\n",
            "Transaction Id:2016- {'item': '5star(l)', 'price': 40, 'quantity': 50, 'category': 'chocolate', 'rating': 8}\n",
            "Transaction Id:2017- {'item': 'kitkat(s)', 'price': 10, 'quantity': 300, 'category': 'chocolate', 'rating': 7}\n",
            "Transaction Id:2018- {'item': 'kitkat(m)', 'price': 40, 'quantity': 400, 'category': 'chocolate', 'rating': 9}\n",
            "Transaction Id:2019- {'item': 'sneakers', 'price': 10, 'quantity': 500, 'category': 'chocolate', 'rating': 6}\n",
            "Transaction Id:2020- {'item': 'centerfresh', 'price': 1, 'quantity': 1000, 'category': 'toffee', 'rating': 7}\n",
            "Transaction Id:2021- {'item': 'notebook', 'price': 35, 'quantity': 40, 'category': 'stationary', 'rating': 8}\n",
            "Transaction Id:2022- {'item': 'apsarapencil', 'price': 5, 'quantity': 200, 'category': 'stationary', 'rating': 9}\n",
            "Transaction Id:2023- {'item': 'fair-copy', 'price': 70, 'quantity': 80, 'category': 'stationary', 'rating': 8}\n",
            "Transaction Id:2024- {'item': 'rough-copy', 'price': 30, 'quantity': 80, 'category': 'stationary', 'rating': 7}\n",
            "Transaction Id:2025- {'item': 'pencil-box', 'price': 100, 'quantity': 90, 'category': 'stationary', 'rating': 9}\n",
            "Transaction Id:2026- {'item': 'colors', 'price': 120, 'quantity': 40, 'category': 'stationary', 'rating': 8}\n",
            "Transaction Id:2027- {'item': 'fevicol(m)', 'price': 20, 'quantity': 100, 'category': 'stationary', 'rating': 9}\n",
            "Transaction Id:2028- {'item': 'fevicol(l)', 'price': 50, 'quantity': 300, 'category': 'stationary', 'rating': 9}\n",
            "Transaction Id:2029- {'item': 'chocobar', 'price': 10, 'quantity': 200, 'category': 'chocolate', 'rating': 7}\n",
            "Transaction Id:2030- {'item': 'pilotpen', 'price': 100, 'quantity': 100, 'category': 'stationary', 'rating': 9}\n",
            "Transaction Id:31- {'Product Name': 'perk(m)', 'Product id': '2005', 'quantity': 3, 'Amount': 108.0, 'Timing': 'Thu Sep 23 04:02:25 2021'}\n"
          ]
        }
      ]
    }
  ]
}