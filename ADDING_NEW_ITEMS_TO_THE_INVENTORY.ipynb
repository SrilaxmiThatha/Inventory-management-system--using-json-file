{
  "nbformat": 4,
  "nbformat_minor": 0,
  "metadata": {
    "colab": {
      "name": "ADDING NEW ITEMS TO THE INVENTORY.ipynb",
      "provenance": [],
      "collapsed_sections": [],
      "authorship_tag": "ABX9TyNDGrE4cFgbI+pX11yyrVZd",
      "include_colab_link": true
    },
    "kernelspec": {
      "name": "python3",
      "display_name": "Python 3"
    },
    "language_info": {
      "name": "python"
    }
  },
  "cells": [
    {
      "cell_type": "markdown",
      "metadata": {
        "id": "view-in-github",
        "colab_type": "text"
      },
      "source": [
        "<a href=\"https://colab.research.google.com/github/SrilaxmiThatha/Inventory-management-system--using-json-file/blob/main/ADDING_NEW_ITEMS_TO_THE_INVENTORY.ipynb\" target=\"_parent\"><img src=\"https://colab.research.google.com/assets/colab-badge.svg\" alt=\"Open In Colab\"/></a>"
      ]
    },
    {
      "cell_type": "code",
      "metadata": {
        "id": "txQfD2K81oq3"
      },
      "source": [
        "import json"
      ],
      "execution_count": 36,
      "outputs": []
    },
    {
      "cell_type": "code",
      "metadata": {
        "colab": {
          "base_uri": "https://localhost:8080/"
        },
        "id": "44DfBJhK17Zl",
        "outputId": "6e8481c1-b86a-46c7-ca86-0aa21d4a8869"
      },
      "source": [
        "fd=open(\"record.json\", 'r') \n",
        "record=fd.read()\n",
        "print(record) \n",
        "fd.close()\n",
        "js=json.loads(record)"
      ],
      "execution_count": 37,
      "outputs": [
        {
          "output_type": "stream",
          "name": "stdout",
          "text": [
            "{\"2001\": {\"item\": \"dairymilk(s)\", \"price\": 10, \"quantity\": 10, \"category\": \"chocolate\", \"rating\": 7}, \"2002\": {\"item\": \"dairymilk(m)\", \"price\": 40, \"quantity\": 50, \"category\": \"chocolate\", \"rating\": 8}, \"2003\": {\"item\": \"dairymilk(l)\", \"price\": 100, \"quantity\": 25, \"category\": \"chocolate\", \"rating\": 8}, \"2004\": {\"item\": \"perk(s)\", \"price\": 10, \"quantity\": 100, \"category\": \"chocolate\", \"rating\": 6}, \"2005\": {\"item\": \"perk(m)\", \"price\": 40, \"quantity\": 55, \"category\": \"chocolate\", \"rating\": 7}, \"2006\": {\"item\": \"perk(l)\", \"price\": 80, \"quantity\": 50, \"category\": \"chocolate\", \"rating\": 8}, \"2007\": {\"item\": \"dove\", \"price\": 2, \"quantity\": 500, \"category\": \"shampoo\", \"rating\": 6}, \"2008\": {\"item\": \"pantenebottle\", \"price\": 150, \"quantity\": 50, \"category\": \"shampoo\", \"rating\": 6}, \"2009\": {\"item\": \"sandalsoap\", \"price\": 20, \"quantity\": 50, \"category\": \"soap\", \"rating\": 9}, \"2010\": {\"item\": \"dettolhandwash\", \"price\": 80, \"quantity\": 30, \"category\": \"handwash\", \"rating\": 9}, \"2011\": {\"item\": \"dettolbottle\", \"price\": 80, \"quantity\": 100, \"category\": \"medicine\", \"rating\": 9}, \"2012\": {\"item\": \"paracetamol\", \"price\": 40, \"quantity\": 10, \"category\": \"medicine\", \"rating\": 8}, \"2013\": {\"item\": \"potato\", \"price\": 10, \"quantity\": 100, \"category\": \"vegetable\", \"rating\": 8}, \"2014\": {\"item\": \"5star(s)\", \"price\": 10, \"quantity\": 100, \"category\": \"chocolate\", \"rating\": 8}, \"2015\": {\"item\": \"5star(m)\", \"price\": 20, \"quantity\": 100, \"category\": \"chocolate\", \"rating\": 8}, \"2016\": {\"item\": \"5star(l)\", \"price\": 40, \"quantity\": 50, \"category\": \"chocolate\", \"rating\": 8}, \"2017\": {\"item\": \"kitkat(s)\", \"price\": 10, \"quantity\": 300, \"category\": \"chocolate\", \"rating\": 7}, \"2018\": {\"item\": \"kitkat(m)\", \"price\": 40, \"quantity\": 400, \"category\": \"chocolate\", \"rating\": 9}, \"2019\": {\"item\": \"sneakers\", \"price\": 10, \"quantity\": 500, \"category\": \"chocolate\", \"rating\": 6}, \"2020\": {\"item\": \"centerfresh\", \"price\": 1, \"quantity\": 1000, \"category\": \"toffee\", \"rating\": 7}, \"2021\": {\"item\": \"notebook\", \"price\": 35, \"quantity\": 40, \"category\": \"stationary\", \"rating\": 8}, \"2022\": {\"item\": \"apsarapencil\", \"price\": 5, \"quantity\": 200, \"category\": \"stationary\", \"rating\": 9}, \"2023\": {\"item\": \"fair-copy\", \"price\": 70, \"quantity\": 80, \"category\": \"stationary\", \"rating\": 8}, \"2024\": {\"item\": \"rough-copy\", \"price\": 30, \"quantity\": 80, \"category\": \"stationary\", \"rating\": 7}, \"2025\": {\"item\": \"pencil-box\", \"price\": 100, \"quantity\": 90, \"category\": \"stationary\", \"rating\": 9}, \"2026\": {\"item\": \"colors\", \"price\": 120, \"quantity\": 40, \"category\": \"stationary\", \"rating\": 8}, \"2027\": {\"item\": \"fevicol(m)\", \"price\": 20, \"quantity\": 100, \"category\": \"stationary\", \"rating\": 9}, \"2028\": {\"item\": \"fevicol(l)\", \"price\": 50, \"quantity\": 300, \"category\": \"stationary\", \"rating\": 9}, \"2029\": {\"item\": \"chocobar\", \"price\": 10, \"quantity\": 200, \"category\": \"chocolate\", \"rating\": 7}, \"2030\": {\"item\": \"pilotpen\", \"price\": 100, \"quantity\": 100, \"category\": \"stationary\", \"rating\": 9}, \"2032\": {\"Name\": \"shoes\", \"Category\": \"footwear\", \"Price\": 600, \"quantity\": 40, \"rating\": \"8\"}}\n"
          ]
        }
      ]
    },
    {
      "cell_type": "code",
      "metadata": {
        "colab": {
          "base_uri": "https://localhost:8080/"
        },
        "id": "LIrwNSZ_2ZDa",
        "outputId": "b553316f-01c6-4467-9f31-2cb84ec08a37"
      },
      "source": [
        "for i in js:\n",
        "   print(i,js[i])"
      ],
      "execution_count": 38,
      "outputs": [
        {
          "output_type": "stream",
          "name": "stdout",
          "text": [
            "2001 {'item': 'dairymilk(s)', 'price': 10, 'quantity': 10, 'category': 'chocolate', 'rating': 7}\n",
            "2002 {'item': 'dairymilk(m)', 'price': 40, 'quantity': 50, 'category': 'chocolate', 'rating': 8}\n",
            "2003 {'item': 'dairymilk(l)', 'price': 100, 'quantity': 25, 'category': 'chocolate', 'rating': 8}\n",
            "2004 {'item': 'perk(s)', 'price': 10, 'quantity': 100, 'category': 'chocolate', 'rating': 6}\n",
            "2005 {'item': 'perk(m)', 'price': 40, 'quantity': 55, 'category': 'chocolate', 'rating': 7}\n",
            "2006 {'item': 'perk(l)', 'price': 80, 'quantity': 50, 'category': 'chocolate', 'rating': 8}\n",
            "2007 {'item': 'dove', 'price': 2, 'quantity': 500, 'category': 'shampoo', 'rating': 6}\n",
            "2008 {'item': 'pantenebottle', 'price': 150, 'quantity': 50, 'category': 'shampoo', 'rating': 6}\n",
            "2009 {'item': 'sandalsoap', 'price': 20, 'quantity': 50, 'category': 'soap', 'rating': 9}\n",
            "2010 {'item': 'dettolhandwash', 'price': 80, 'quantity': 30, 'category': 'handwash', 'rating': 9}\n",
            "2011 {'item': 'dettolbottle', 'price': 80, 'quantity': 100, 'category': 'medicine', 'rating': 9}\n",
            "2012 {'item': 'paracetamol', 'price': 40, 'quantity': 10, 'category': 'medicine', 'rating': 8}\n",
            "2013 {'item': 'potato', 'price': 10, 'quantity': 100, 'category': 'vegetable', 'rating': 8}\n",
            "2014 {'item': '5star(s)', 'price': 10, 'quantity': 100, 'category': 'chocolate', 'rating': 8}\n",
            "2015 {'item': '5star(m)', 'price': 20, 'quantity': 100, 'category': 'chocolate', 'rating': 8}\n",
            "2016 {'item': '5star(l)', 'price': 40, 'quantity': 50, 'category': 'chocolate', 'rating': 8}\n",
            "2017 {'item': 'kitkat(s)', 'price': 10, 'quantity': 300, 'category': 'chocolate', 'rating': 7}\n",
            "2018 {'item': 'kitkat(m)', 'price': 40, 'quantity': 400, 'category': 'chocolate', 'rating': 9}\n",
            "2019 {'item': 'sneakers', 'price': 10, 'quantity': 500, 'category': 'chocolate', 'rating': 6}\n",
            "2020 {'item': 'centerfresh', 'price': 1, 'quantity': 1000, 'category': 'toffee', 'rating': 7}\n",
            "2021 {'item': 'notebook', 'price': 35, 'quantity': 40, 'category': 'stationary', 'rating': 8}\n",
            "2022 {'item': 'apsarapencil', 'price': 5, 'quantity': 200, 'category': 'stationary', 'rating': 9}\n",
            "2023 {'item': 'fair-copy', 'price': 70, 'quantity': 80, 'category': 'stationary', 'rating': 8}\n",
            "2024 {'item': 'rough-copy', 'price': 30, 'quantity': 80, 'category': 'stationary', 'rating': 7}\n",
            "2025 {'item': 'pencil-box', 'price': 100, 'quantity': 90, 'category': 'stationary', 'rating': 9}\n",
            "2026 {'item': 'colors', 'price': 120, 'quantity': 40, 'category': 'stationary', 'rating': 8}\n",
            "2027 {'item': 'fevicol(m)', 'price': 20, 'quantity': 100, 'category': 'stationary', 'rating': 9}\n",
            "2028 {'item': 'fevicol(l)', 'price': 50, 'quantity': 300, 'category': 'stationary', 'rating': 9}\n",
            "2029 {'item': 'chocobar', 'price': 10, 'quantity': 200, 'category': 'chocolate', 'rating': 7}\n",
            "2030 {'item': 'pilotpen', 'price': 100, 'quantity': 100, 'category': 'stationary', 'rating': 9}\n",
            "2032 {'Name': 'shoes', 'Category': 'footwear', 'Price': 600, 'quantity': 40, 'rating': '8'}\n"
          ]
        }
      ]
    },
    {
      "cell_type": "code",
      "metadata": {
        "colab": {
          "base_uri": "https://localhost:8080/"
        },
        "id": "UQjaEnAA2bxL",
        "outputId": "227bef9a-4b27-484e-de57-3dff5eea8058"
      },
      "source": [
        "len(js)\n"
      ],
      "execution_count": 39,
      "outputs": [
        {
          "output_type": "execute_result",
          "data": {
            "text/plain": [
              "31"
            ]
          },
          "metadata": {},
          "execution_count": 39
        }
      ]
    },
    {
      "cell_type": "code",
      "metadata": {
        "colab": {
          "base_uri": "https://localhost:8080/"
        },
        "id": "GOZy8dRa2lis",
        "outputId": "49237964-a61e-4bfa-bf52-a59c17efe757"
      },
      "source": [
        "Prod_id=input(\"Enter ProductId:\") \n",
        " \n",
        "item=input(\"Enter Name of Product:\") \n",
        " \n",
        "categ=input(\"Enter Category of Product:\")\n",
        " \n",
        "price=int(input(\"Enter Price:\")) \n",
        " \n",
        "quan=int(input(\"Enter Quantity:\")) \n",
        " \n",
        "rating=input(\"Enter rating:\")\n",
        " \n",
        " \n",
        "js[Prod_id]={'Name':item, 'Category':categ, 'Price':price, 'quantity':quan, 'rating':rating}\n",
        " \n",
        "js=json.dumps(js)\n",
        " \n",
        "fd=open('record.json', 'w') \n",
        "fd.write(js) \n",
        "fd.close()"
      ],
      "execution_count": 40,
      "outputs": [
        {
          "name": "stdout",
          "output_type": "stream",
          "text": [
            "Enter ProductId:2031\n",
            "Enter Name of Product:shirt\n",
            "Enter Category of Product:clothing\n",
            "Enter Price:400\n",
            "Enter Quantity:40\n",
            "Enter rating:8\n"
          ]
        }
      ]
    },
    {
      "cell_type": "code",
      "metadata": {
        "colab": {
          "base_uri": "https://localhost:8080/",
          "height": 132
        },
        "id": "SmvPwinD9qeY",
        "outputId": "2afeebf1-2716-4e42-bd02-1171798052d2"
      },
      "source": [
        "record"
      ],
      "execution_count": 52,
      "outputs": [
        {
          "output_type": "execute_result",
          "data": {
            "application/vnd.google.colaboratory.intrinsic+json": {
              "type": "string"
            },
            "text/plain": [
              "'{\"2001\": {\"item\": \"dairymilk(s)\", \"price\": 10, \"quantity\": 10, \"category\": \"chocolate\", \"rating\": 7}, \"2002\": {\"item\": \"dairymilk(m)\", \"price\": 40, \"quantity\": 50, \"category\": \"chocolate\", \"rating\": 8}, \"2003\": {\"item\": \"dairymilk(l)\", \"price\": 100, \"quantity\": 25, \"category\": \"chocolate\", \"rating\": 8}, \"2004\": {\"item\": \"perk(s)\", \"price\": 10, \"quantity\": 100, \"category\": \"chocolate\", \"rating\": 6}, \"2005\": {\"item\": \"perk(m)\", \"price\": 40, \"quantity\": 55, \"category\": \"chocolate\", \"rating\": 7}, \"2006\": {\"item\": \"perk(l)\", \"price\": 80, \"quantity\": 50, \"category\": \"chocolate\", \"rating\": 8}, \"2007\": {\"item\": \"dove\", \"price\": 2, \"quantity\": 500, \"category\": \"shampoo\", \"rating\": 6}, \"2008\": {\"item\": \"pantenebottle\", \"price\": 150, \"quantity\": 50, \"category\": \"shampoo\", \"rating\": 6}, \"2009\": {\"item\": \"sandalsoap\", \"price\": 20, \"quantity\": 50, \"category\": \"soap\", \"rating\": 9}, \"2010\": {\"item\": \"dettolhandwash\", \"price\": 80, \"quantity\": 30, \"category\": \"handwash\", \"rating\": 9}, \"2011\": {\"item\": \"dettolbottle\", \"price\": 80, \"quantity\": 100, \"category\": \"medicine\", \"rating\": 9}, \"2012\": {\"item\": \"paracetamol\", \"price\": 40, \"quantity\": 10, \"category\": \"medicine\", \"rating\": 8}, \"2013\": {\"item\": \"potato\", \"price\": 10, \"quantity\": 100, \"category\": \"vegetable\", \"rating\": 8}, \"2014\": {\"item\": \"5star(s)\", \"price\": 10, \"quantity\": 100, \"category\": \"chocolate\", \"rating\": 8}, \"2015\": {\"item\": \"5star(m)\", \"price\": 20, \"quantity\": 100, \"category\": \"chocolate\", \"rating\": 8}, \"2016\": {\"item\": \"5star(l)\", \"price\": 40, \"quantity\": 50, \"category\": \"chocolate\", \"rating\": 8}, \"2017\": {\"item\": \"kitkat(s)\", \"price\": 10, \"quantity\": 300, \"category\": \"chocolate\", \"rating\": 7}, \"2018\": {\"item\": \"kitkat(m)\", \"price\": 40, \"quantity\": 400, \"category\": \"chocolate\", \"rating\": 9}, \"2019\": {\"item\": \"sneakers\", \"price\": 10, \"quantity\": 500, \"category\": \"chocolate\", \"rating\": 6}, \"2020\": {\"item\": \"centerfresh\", \"price\": 1, \"quantity\": 1000, \"category\": \"toffee\", \"rating\": 7}, \"2021\": {\"item\": \"notebook\", \"price\": 35, \"quantity\": 40, \"category\": \"stationary\", \"rating\": 8}, \"2022\": {\"item\": \"apsarapencil\", \"price\": 5, \"quantity\": 200, \"category\": \"stationary\", \"rating\": 9}, \"2023\": {\"item\": \"fair-copy\", \"price\": 70, \"quantity\": 80, \"category\": \"stationary\", \"rating\": 8}, \"2024\": {\"item\": \"rough-copy\", \"price\": 30, \"quantity\": 80, \"category\": \"stationary\", \"rating\": 7}, \"2025\": {\"item\": \"pencil-box\", \"price\": 100, \"quantity\": 90, \"category\": \"stationary\", \"rating\": 9}, \"2026\": {\"item\": \"colors\", \"price\": 120, \"quantity\": 40, \"category\": \"stationary\", \"rating\": 8}, \"2027\": {\"item\": \"fevicol(m)\", \"price\": 20, \"quantity\": 100, \"category\": \"stationary\", \"rating\": 9}, \"2028\": {\"item\": \"fevicol(l)\", \"price\": 50, \"quantity\": 300, \"category\": \"stationary\", \"rating\": 9}, \"2029\": {\"item\": \"chocobar\", \"price\": 10, \"quantity\": 200, \"category\": \"chocolate\", \"rating\": 7}, \"2030\": {\"item\": \"pilotpen\", \"price\": 100, \"quantity\": 100, \"category\": \"stationary\", \"rating\": 9}, \"2032\": {\"Name\": \"shoes\", \"Category\": \"footwear\", \"Price\": 600, \"quantity\": 40, \"rating\": \"8\"}}'"
            ]
          },
          "metadata": {},
          "execution_count": 52
        }
      ]
    }
  ]
}